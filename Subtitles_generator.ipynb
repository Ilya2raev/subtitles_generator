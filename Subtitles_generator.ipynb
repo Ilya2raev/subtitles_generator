{
  "cells": [
    {
      "cell_type": "markdown",
      "metadata": {
        "id": "view-in-github",
        "colab_type": "text"
      },
      "source": [
        "<a href=\"https://colab.research.google.com/github/Ilya2raev/subtitles_generator/blob/master/Subtitles_generator.ipynb\" target=\"_parent\"><img src=\"https://colab.research.google.com/assets/colab-badge.svg\" alt=\"Open In Colab\"/></a>"
      ]
    },
    {
      "cell_type": "code",
      "execution_count": 1,
      "metadata": {
        "id": "gLwyIRdmuhhf"
      },
      "outputs": [],
      "source": [
        "from IPython.display import clear_output\n",
        "!pip install git+https://github.com/openai/whisper.git -q\n",
        "!pip install faster-whisper -q\n",
        "!git clone https://git.ffmpeg.org/ffmpeg.git ffmpeg -q\n",
        "!pip install pysubs2\n",
        "!apt install libcublas11\n",
        "\n",
        "!pip install moviepy\n",
        "!pip install imageio==2.25.1\n",
        "!apt install imagemagick\n",
        "!pip install pysrt==1.1.2\n",
        "!cat /etc/ImageMagick-6/policy.xml | sed 's/none/read,write/g'> /etc/ImageMagick-6/policy.xml\n",
        "clear_output()"
      ]
    },
    {
      "cell_type": "code",
      "execution_count": 2,
      "metadata": {
        "id": "OYqO5s8uuwjR"
      },
      "outputs": [],
      "source": [
        "import gc\n",
        "import ctypes\n",
        "import sys\n",
        "import warnings\n",
        "\n",
        "from faster_whisper import WhisperModel\n",
        "import torch\n",
        "import pysubs2\n",
        "import pysrt\n",
        "from moviepy.editor import VideoFileClip, TextClip, CompositeVideoClip\n",
        "from google.colab import drive\n",
        "drive.mount('/content/drive')\n",
        "warnings.filterwarnings('ignore')\n",
        "clear_output()"
      ]
    },
    {
      "cell_type": "code",
      "execution_count": 4,
      "metadata": {
        "colab": {
          "base_uri": "https://localhost:8080/",
          "height": 35
        },
        "id": "_M95PMMN00qD",
        "outputId": "847abbc2-827c-41a3-cb39-1300514c3506"
      },
      "outputs": [
        {
          "output_type": "execute_result",
          "data": {
            "text/plain": [
              "'12.1'"
            ],
            "application/vnd.google.colaboratory.intrinsic+json": {
              "type": "string"
            }
          },
          "metadata": {},
          "execution_count": 4
        }
      ],
      "source": [
        "torch.version.cuda"
      ]
    },
    {
      "cell_type": "code",
      "execution_count": 5,
      "metadata": {
        "id": "CTDpsBxEgrJH"
      },
      "outputs": [],
      "source": [
        "class cfg:\n",
        "  # ASR\n",
        "  whisper_model = 'large-v2'\n",
        "  target_language = 'en'\n",
        "\n",
        "  # Path\n",
        "  video_path = '/content/drive/MyDrive/Subtitles_generator/video.mp4'\n",
        "\n",
        "  # Subtitles\n",
        "  bg_color = 'transparent'\n",
        "  fontsize = 16\n",
        "  font='Arial'\n",
        "  color='yellow'"
      ]
    },
    {
      "cell_type": "markdown",
      "metadata": {
        "id": "wzwAf2pQ2l6v"
      },
      "source": [
        "## 1. ASR"
      ]
    },
    {
      "cell_type": "code",
      "execution_count": null,
      "metadata": {
        "id": "1_8gNdgUuyei"
      },
      "outputs": [],
      "source": [
        "model = WhisperModel(model_size_or_path=cfg.whisper_model)\n",
        "segments, _ = model.transcribe(audio=cfg.video_path, language=cfg.target_language)\n",
        "results = [{'start': s.start,\n",
        "            'end': s.end,\n",
        "            'text': s.text} for s in segments]\n",
        "\n",
        "del model\n",
        "torch.cuda.empty_cache()\n",
        "gc.collect()\n",
        "ctypes.CDLL(\"libc.so.6\").malloc_trim(0)\n",
        "clear_output()"
      ]
    },
    {
      "cell_type": "code",
      "execution_count": 7,
      "metadata": {
        "id": "TOFEWe-Ww8LI"
      },
      "outputs": [],
      "source": [
        "subs = pysubs2.load_from_whisper(results)\n",
        "subs.save('script.srt')"
      ]
    },
    {
      "cell_type": "markdown",
      "metadata": {
        "id": "oeSW8j3I2oT_"
      },
      "source": [
        "## 2. Inserting scripts into video"
      ]
    },
    {
      "cell_type": "code",
      "execution_count": 8,
      "metadata": {
        "id": "GDVrNl4u3GtA"
      },
      "outputs": [],
      "source": [
        "srtfilename = \"/content/script.srt\""
      ]
    },
    {
      "cell_type": "code",
      "execution_count": 9,
      "metadata": {
        "id": "5LZlLib03LgH"
      },
      "outputs": [],
      "source": [
        "def time_to_seconds(time_obj):\n",
        "    return time_obj.hours * 3600 + time_obj.minutes * 60 + time_obj.seconds + time_obj.milliseconds / 1000\n",
        "\n",
        "def create_subtitle_clips(subtitles, videosize, debug=False):\n",
        "    subtitle_clips = []\n",
        "\n",
        "    for subtitle in subtitles:\n",
        "        start_time = time_to_seconds(subtitle.start)\n",
        "        end_time = time_to_seconds(subtitle.end)\n",
        "        duration = end_time - start_time\n",
        "\n",
        "        video_width, video_height = videosize\n",
        "\n",
        "        text_clip = TextClip(subtitle.text, fontsize=cfg.fontsize,\n",
        "                             font=cfg.font, color=cfg.color,\n",
        "                             bg_color=cfg.bg_color,\n",
        "                             size=(video_width*3/4, None),\n",
        "                             method='caption').set_start(start_time).set_duration(duration)\n",
        "\n",
        "        subtitle_x_position = 'center'\n",
        "        subtitle_y_position = video_height * 4 / 5\n",
        "\n",
        "        text_position = (subtitle_x_position, subtitle_y_position)\n",
        "        subtitle_clips.append(text_clip.set_position(text_position))\n",
        "\n",
        "    return subtitle_clips"
      ]
    },
    {
      "cell_type": "code",
      "execution_count": null,
      "metadata": {
        "id": "JemtcD5M3cnI"
      },
      "outputs": [],
      "source": [
        "# Load video and SRT file\n",
        "video = VideoFileClip(cfg.video_path)\n",
        "subtitles = pysrt.open(srtfilename)\n",
        "\n",
        "start, end = cfg.video_path.split(\".mp4\")\n",
        "output_video_file = start + '_subtitled' + \".mp4\"\n",
        "\n",
        "print(\"Output file name: \", output_video_file)\n",
        "\n",
        "# Create subtitle clips\n",
        "subtitle_clips = create_subtitle_clips(subtitles, video.size)\n",
        "\n",
        "# Add subtitles to the video\n",
        "final_video = CompositeVideoClip([video] + subtitle_clips)\n",
        "\n",
        "# Write output video file\n",
        "final_video.write_videofile(output_video_file)"
      ]
    }
  ],
  "metadata": {
    "accelerator": "GPU",
    "colab": {
      "provenance": [],
      "include_colab_link": true
    },
    "kernelspec": {
      "display_name": "Python 3",
      "name": "python3"
    },
    "language_info": {
      "name": "python"
    }
  },
  "nbformat": 4,
  "nbformat_minor": 0
}